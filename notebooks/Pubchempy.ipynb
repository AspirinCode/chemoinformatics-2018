{
 "cells": [
  {
   "cell_type": "markdown",
   "metadata": {},
   "source": [
    "[PubChem](https://pubchem.ncbi.nlm.nih.gov/) is a database of chemical molecules, their properties, structures, activities against bioassays etc. It is maintained by National Center for Biotechnology Information (NCBI). The information present in the database can be retrieved via their [PUG REST API](http://pubchemdocs.ncbi.nlm.nih.gov/pug-rest).\n",
    "\n",
    "Each molecule in the database has a unique ID known as the Compound ID (CID). Corresponding to each CID, you have it's SMILES, Molecular properties, IUPAC etc.\n",
    "\n",
    "Thankfully, Python has a wrapper around the PUG REST API called [Pubchempy](https://pubchempy.readthedocs.io/en/latest/guide/introduction.html), which takes care of nitty gritties involved in retrieving data from a REST API. "
   ]
  },
  {
   "cell_type": "code",
   "execution_count": 1,
   "metadata": {
    "collapsed": false
   },
   "outputs": [],
   "source": [
    "%load_ext autoreload\n",
    "%autoreload 2"
   ]
  },
  {
   "cell_type": "code",
   "execution_count": 2,
   "metadata": {
    "collapsed": false
   },
   "outputs": [],
   "source": [
    "# Import library\n",
    "import pubchempy as pcp"
   ]
  },
  {
   "cell_type": "markdown",
   "metadata": {},
   "source": [
    "### Retrieving cid"
   ]
  },
  {
   "cell_type": "markdown",
   "metadata": {},
   "source": [
    "Pubchempy allows retreival of compounds on the basis of name, smiles, sdf, inchi, inchikey or formula"
   ]
  },
  {
   "cell_type": "code",
   "execution_count": 3,
   "metadata": {
    "collapsed": false
   },
   "outputs": [
    {
     "data": {
      "text/plain": [
       "[Compound(5793)]"
      ]
     },
     "execution_count": 3,
     "metadata": {},
     "output_type": "execute_result"
    }
   ],
   "source": [
    "results = pcp.get_compounds('Glucose', 'name')\n",
    "results"
   ]
  },
  {
   "cell_type": "code",
   "execution_count": 6,
   "metadata": {
    "collapsed": false
   },
   "outputs": [],
   "source": [
    "compound = results[0]"
   ]
  },
  {
   "cell_type": "markdown",
   "metadata": {},
   "source": [
    "### Retrieving data from cid"
   ]
  },
  {
   "cell_type": "code",
   "execution_count": 11,
   "metadata": {
    "collapsed": false
   },
   "outputs": [
    {
     "name": "stdout",
     "output_type": "stream",
     "text": [
      "Molecular formula:  C6H12O6\n",
      "Canonical SMILES:  C(C1C(C(C(C(O1)O)O)O)O)O\n",
      "INCHI:  InChI=1S/C6H12O6/c7-1-2-3(8)4(9)5(10)6(11)12-2/h2-11H,1H2/t2-,3-,4+,5-,6?/m1/s1\n",
      "INCHI Key:  WQZGKKKJIJFFOK-GASJEMHNSA-N\n",
      "IUPAC Name:  (3R,4S,5S,6R)-6-(hydroxymethyl)oxane-2,3,4,5-tetrol\n",
      "\n",
      "Some properties:\n",
      "Atom stereo count =  5\n",
      "Bond stereo count =  0\n",
      "Charge =  0\n",
      "Exact Mass =  180.063\n"
     ]
    }
   ],
   "source": [
    "# Retrieving a compound from a cid\n",
    "c = pcp.Compound.from_cid(5793)\n",
    "\n",
    "# Getting smiles\n",
    "print(\"Molecular formula: \", c.molecular_formula)\n",
    "print(\"Canonical SMILES: \", c.canonical_smiles)\n",
    "print(\"INCHI: \", c.inchi)\n",
    "print(\"INCHI Key: \", c.inchikey)\n",
    "print(\"IUPAC Name: \", c.iupac_name)\n",
    "print(\"\\nSome properties:\")\n",
    "print(\"Atom stereo count = \", c.atom_stereo_count)\n",
    "print(\"Bond stereo count = \", c.bond_stereo_count)\n",
    "print(\"Charge = \", c.charge)\n",
    "print(\"Exact Mass = \", c.exact_mass)"
   ]
  },
  {
   "cell_type": "markdown",
   "metadata": {},
   "source": [
    "### Pandas integration"
   ]
  },
  {
   "cell_type": "code",
   "execution_count": 30,
   "metadata": {
    "collapsed": false
   },
   "outputs": [],
   "source": [
    "df1 = pcp.get_compounds('C20H41Br', 'formula', as_dataframe=True)"
   ]
  },
  {
   "cell_type": "code",
   "execution_count": 31,
   "metadata": {
    "collapsed": false
   },
   "outputs": [
    {
     "data": {
      "text/html": [
       "<div>\n",
       "<table border=\"1\" class=\"dataframe\">\n",
       "  <thead>\n",
       "    <tr style=\"text-align: right;\">\n",
       "      <th></th>\n",
       "      <th>atom_stereo_count</th>\n",
       "      <th>atoms</th>\n",
       "      <th>bond_stereo_count</th>\n",
       "      <th>bonds</th>\n",
       "      <th>cactvs_fingerprint</th>\n",
       "      <th>canonical_smiles</th>\n",
       "      <th>charge</th>\n",
       "      <th>complexity</th>\n",
       "      <th>conformer_id_3d</th>\n",
       "      <th>conformer_rmsd_3d</th>\n",
       "      <th>...</th>\n",
       "      <th>pharmacophore_features_3d</th>\n",
       "      <th>record</th>\n",
       "      <th>rotatable_bond_count</th>\n",
       "      <th>shape_fingerprint_3d</th>\n",
       "      <th>shape_selfoverlap_3d</th>\n",
       "      <th>tpsa</th>\n",
       "      <th>undefined_atom_stereo_count</th>\n",
       "      <th>undefined_bond_stereo_count</th>\n",
       "      <th>volume_3d</th>\n",
       "      <th>xlogp</th>\n",
       "    </tr>\n",
       "    <tr>\n",
       "      <th>cid</th>\n",
       "      <th></th>\n",
       "      <th></th>\n",
       "      <th></th>\n",
       "      <th></th>\n",
       "      <th></th>\n",
       "      <th></th>\n",
       "      <th></th>\n",
       "      <th></th>\n",
       "      <th></th>\n",
       "      <th></th>\n",
       "      <th></th>\n",
       "      <th></th>\n",
       "      <th></th>\n",
       "      <th></th>\n",
       "      <th></th>\n",
       "      <th></th>\n",
       "      <th></th>\n",
       "      <th></th>\n",
       "      <th></th>\n",
       "      <th></th>\n",
       "      <th></th>\n",
       "    </tr>\n",
       "  </thead>\n",
       "  <tbody>\n",
       "    <tr>\n",
       "      <th>20271</th>\n",
       "      <td>0</td>\n",
       "      <td>[{'aid': 1, 'number': 35, 'element': 'Br', 'x'...</td>\n",
       "      <td>0</td>\n",
       "      <td>[{'aid1': 1, 'aid2': 20, 'order': 1}, {'aid1':...</td>\n",
       "      <td>1111000001111000000000000000000000000000000100...</td>\n",
       "      <td>CCCCCCCCCCCCCCCCCCCCBr</td>\n",
       "      <td>0</td>\n",
       "      <td>167</td>\n",
       "      <td>None</td>\n",
       "      <td>None</td>\n",
       "      <td>...</td>\n",
       "      <td>None</td>\n",
       "      <td>{'id': {'id': {'cid': 20271}}, 'atoms': {'aid'...</td>\n",
       "      <td>18</td>\n",
       "      <td>None</td>\n",
       "      <td>None</td>\n",
       "      <td>0</td>\n",
       "      <td>0</td>\n",
       "      <td>0</td>\n",
       "      <td>None</td>\n",
       "      <td>11.4</td>\n",
       "    </tr>\n",
       "    <tr>\n",
       "      <th>10808570</th>\n",
       "      <td>3</td>\n",
       "      <td>[{'aid': 1, 'number': 35, 'element': 'Br', 'x'...</td>\n",
       "      <td>0</td>\n",
       "      <td>[{'aid1': 1, 'aid2': 21, 'order': 1}, {'aid1':...</td>\n",
       "      <td>1111000001111000000000000000000000000000000100...</td>\n",
       "      <td>CC(C)CCCC(C)CCCC(C)CCCC(C)CCBr</td>\n",
       "      <td>0</td>\n",
       "      <td>212</td>\n",
       "      <td>None</td>\n",
       "      <td>None</td>\n",
       "      <td>...</td>\n",
       "      <td>None</td>\n",
       "      <td>{'id': {'id': {'cid': 10808570}}, 'atoms': {'a...</td>\n",
       "      <td>14</td>\n",
       "      <td>None</td>\n",
       "      <td>None</td>\n",
       "      <td>0</td>\n",
       "      <td>3</td>\n",
       "      <td>0</td>\n",
       "      <td>None</td>\n",
       "      <td>9.9</td>\n",
       "    </tr>\n",
       "    <tr>\n",
       "      <th>14350915</th>\n",
       "      <td>3</td>\n",
       "      <td>[{'aid': 1, 'number': 35, 'element': 'Br', 'x'...</td>\n",
       "      <td>0</td>\n",
       "      <td>[{'aid1': 1, 'aid2': 21, 'order': 1}, {'aid1':...</td>\n",
       "      <td>1111000001111000000000000000000000000000000100...</td>\n",
       "      <td>CC(C)CCCC(C)CCCC(C)CCCC(C)CCBr</td>\n",
       "      <td>0</td>\n",
       "      <td>212</td>\n",
       "      <td>None</td>\n",
       "      <td>None</td>\n",
       "      <td>...</td>\n",
       "      <td>None</td>\n",
       "      <td>{'id': {'id': {'cid': 14350915}}, 'atoms': {'a...</td>\n",
       "      <td>14</td>\n",
       "      <td>None</td>\n",
       "      <td>None</td>\n",
       "      <td>0</td>\n",
       "      <td>1</td>\n",
       "      <td>0</td>\n",
       "      <td>None</td>\n",
       "      <td>9.9</td>\n",
       "    </tr>\n",
       "    <tr>\n",
       "      <th>21270592</th>\n",
       "      <td>0</td>\n",
       "      <td>[{'aid': 1, 'number': 35, 'element': 'Br', 'x'...</td>\n",
       "      <td>0</td>\n",
       "      <td>[{'aid1': 1, 'aid2': 15, 'order': 1}, {'aid1':...</td>\n",
       "      <td>1111000001111000000000000000000000000000000100...</td>\n",
       "      <td>CCCCCCCCCCCCCCCCCC(C)(C)Br</td>\n",
       "      <td>0</td>\n",
       "      <td>198</td>\n",
       "      <td>None</td>\n",
       "      <td>None</td>\n",
       "      <td>...</td>\n",
       "      <td>None</td>\n",
       "      <td>{'id': {'id': {'cid': 21270592}}, 'atoms': {'a...</td>\n",
       "      <td>16</td>\n",
       "      <td>None</td>\n",
       "      <td>None</td>\n",
       "      <td>0</td>\n",
       "      <td>0</td>\n",
       "      <td>0</td>\n",
       "      <td>None</td>\n",
       "      <td>10.4</td>\n",
       "    </tr>\n",
       "    <tr>\n",
       "      <th>21540177</th>\n",
       "      <td>1</td>\n",
       "      <td>[{'aid': 1, 'number': 35, 'element': 'Br', 'x'...</td>\n",
       "      <td>0</td>\n",
       "      <td>[{'aid1': 1, 'aid2': 2, 'order': 1, 'style': 3...</td>\n",
       "      <td>1111000001111000000000000000000000000000000100...</td>\n",
       "      <td>CCCCCCCCCCCCC(CCC)(CCCC)Br</td>\n",
       "      <td>0</td>\n",
       "      <td>202</td>\n",
       "      <td>None</td>\n",
       "      <td>None</td>\n",
       "      <td>...</td>\n",
       "      <td>None</td>\n",
       "      <td>{'id': {'id': {'cid': 21540177}}, 'atoms': {'a...</td>\n",
       "      <td>16</td>\n",
       "      <td>None</td>\n",
       "      <td>None</td>\n",
       "      <td>0</td>\n",
       "      <td>1</td>\n",
       "      <td>0</td>\n",
       "      <td>None</td>\n",
       "      <td>10.0</td>\n",
       "    </tr>\n",
       "  </tbody>\n",
       "</table>\n",
       "<p>5 rows × 43 columns</p>\n",
       "</div>"
      ],
      "text/plain": [
       "          atom_stereo_count  \\\n",
       "cid                           \n",
       "20271                     0   \n",
       "10808570                  3   \n",
       "14350915                  3   \n",
       "21270592                  0   \n",
       "21540177                  1   \n",
       "\n",
       "                                                      atoms  \\\n",
       "cid                                                           \n",
       "20271     [{'aid': 1, 'number': 35, 'element': 'Br', 'x'...   \n",
       "10808570  [{'aid': 1, 'number': 35, 'element': 'Br', 'x'...   \n",
       "14350915  [{'aid': 1, 'number': 35, 'element': 'Br', 'x'...   \n",
       "21270592  [{'aid': 1, 'number': 35, 'element': 'Br', 'x'...   \n",
       "21540177  [{'aid': 1, 'number': 35, 'element': 'Br', 'x'...   \n",
       "\n",
       "          bond_stereo_count  \\\n",
       "cid                           \n",
       "20271                     0   \n",
       "10808570                  0   \n",
       "14350915                  0   \n",
       "21270592                  0   \n",
       "21540177                  0   \n",
       "\n",
       "                                                      bonds  \\\n",
       "cid                                                           \n",
       "20271     [{'aid1': 1, 'aid2': 20, 'order': 1}, {'aid1':...   \n",
       "10808570  [{'aid1': 1, 'aid2': 21, 'order': 1}, {'aid1':...   \n",
       "14350915  [{'aid1': 1, 'aid2': 21, 'order': 1}, {'aid1':...   \n",
       "21270592  [{'aid1': 1, 'aid2': 15, 'order': 1}, {'aid1':...   \n",
       "21540177  [{'aid1': 1, 'aid2': 2, 'order': 1, 'style': 3...   \n",
       "\n",
       "                                         cactvs_fingerprint  \\\n",
       "cid                                                           \n",
       "20271     1111000001111000000000000000000000000000000100...   \n",
       "10808570  1111000001111000000000000000000000000000000100...   \n",
       "14350915  1111000001111000000000000000000000000000000100...   \n",
       "21270592  1111000001111000000000000000000000000000000100...   \n",
       "21540177  1111000001111000000000000000000000000000000100...   \n",
       "\n",
       "                        canonical_smiles  charge  complexity conformer_id_3d  \\\n",
       "cid                                                                            \n",
       "20271             CCCCCCCCCCCCCCCCCCCCBr       0         167            None   \n",
       "10808570  CC(C)CCCC(C)CCCC(C)CCCC(C)CCBr       0         212            None   \n",
       "14350915  CC(C)CCCC(C)CCCC(C)CCCC(C)CCBr       0         212            None   \n",
       "21270592      CCCCCCCCCCCCCCCCCC(C)(C)Br       0         198            None   \n",
       "21540177      CCCCCCCCCCCCC(CCC)(CCCC)Br       0         202            None   \n",
       "\n",
       "         conformer_rmsd_3d  ...   pharmacophore_features_3d  \\\n",
       "cid                         ...                               \n",
       "20271                 None  ...                        None   \n",
       "10808570              None  ...                        None   \n",
       "14350915              None  ...                        None   \n",
       "21270592              None  ...                        None   \n",
       "21540177              None  ...                        None   \n",
       "\n",
       "                                                     record  \\\n",
       "cid                                                           \n",
       "20271     {'id': {'id': {'cid': 20271}}, 'atoms': {'aid'...   \n",
       "10808570  {'id': {'id': {'cid': 10808570}}, 'atoms': {'a...   \n",
       "14350915  {'id': {'id': {'cid': 14350915}}, 'atoms': {'a...   \n",
       "21270592  {'id': {'id': {'cid': 21270592}}, 'atoms': {'a...   \n",
       "21540177  {'id': {'id': {'cid': 21540177}}, 'atoms': {'a...   \n",
       "\n",
       "          rotatable_bond_count  shape_fingerprint_3d shape_selfoverlap_3d  \\\n",
       "cid                                                                         \n",
       "20271                       18                  None                 None   \n",
       "10808570                    14                  None                 None   \n",
       "14350915                    14                  None                 None   \n",
       "21270592                    16                  None                 None   \n",
       "21540177                    16                  None                 None   \n",
       "\n",
       "         tpsa  undefined_atom_stereo_count undefined_bond_stereo_count  \\\n",
       "cid                                                                      \n",
       "20271       0                            0                           0   \n",
       "10808570    0                            3                           0   \n",
       "14350915    0                            1                           0   \n",
       "21270592    0                            0                           0   \n",
       "21540177    0                            1                           0   \n",
       "\n",
       "         volume_3d  xlogp  \n",
       "cid                        \n",
       "20271         None   11.4  \n",
       "10808570      None    9.9  \n",
       "14350915      None    9.9  \n",
       "21270592      None   10.4  \n",
       "21540177      None   10.0  \n",
       "\n",
       "[5 rows x 43 columns]"
      ]
     },
     "execution_count": 31,
     "metadata": {},
     "output_type": "execute_result"
    }
   ],
   "source": [
    "df1.head()"
   ]
  },
  {
   "cell_type": "markdown",
   "metadata": {},
   "source": [
    "There are many more features available as well, including retrieving 3d properties, similarity searching etc. Read the documentation: https://pubchempy.readthedocs.io/en/latest/guide/gettingstarted.html"
   ]
  },
  {
   "cell_type": "markdown",
   "metadata": {},
   "source": [
    "### Can I retrieve data from cas number?"
   ]
  },
  {
   "cell_type": "markdown",
   "metadata": {},
   "source": [
    "https://cactus.nci.nih.gov/chemical/structure"
   ]
  },
  {
   "cell_type": "markdown",
   "metadata": {},
   "source": [
    "Not 100% reliable but gets the job done"
   ]
  },
  {
   "cell_type": "code",
   "execution_count": 32,
   "metadata": {
    "collapsed": true
   },
   "outputs": [],
   "source": [
    "import requests\n",
    "from bs4 import BeautifulSoup\n",
    "\n",
    "def extract_id_type(soup):\n",
    "    \"\"\" Takes a BS4 object of a pubchem page as input and returns the\n",
    "    Pubchem ID type and Pubchem ID Value. \"\"\"\n",
    "    \n",
    "    pubhcem_uid_type = soup.find_all(\n",
    "        'meta', {'name': 'pubchem_uid_type'})[0]['content']\n",
    "    pubhcem_uid_value = soup.find_all(\n",
    "        'meta', {'name': 'pubchem_uid_value'})[0]['content']\n",
    "    \n",
    "    return pubhcem_uid_type + ':' + pubhcem_uid_value\n",
    "\n",
    "\n",
    "def get_pubchem(cas):\n",
    "    \"\"\" Extract the mappings to pubchem ids of a given CAS number \"\"\"\n",
    "\n",
    "    # Get the search page.\n",
    "    url = 'https://www.ncbi.nlm.nih.gov/pccompound?term=\"{}\"'.format(cas)\n",
    "    r = requests.get(url)\n",
    "    soup = BeautifulSoup(r.text, 'lxml')\n",
    "\n",
    "    # In case the search page redirects, extract pubchem id type and value.\n",
    "    try:\n",
    "        return extract_id_type(soup)\n",
    "\n",
    "    # Otherwise, get all the returned links and extract pubchem id type and value.\n",
    "    except IndexError:\n",
    "\n",
    "        # If only exact results are returned.\n",
    "        if (not 'Quoted phrase not found' in r.text) and (not 'Did you mean: ' in r.text):\n",
    "            pubmed_results = [pr.find_all('p', {\"class\": \"title\"})[\n",
    "                0] for pr in soup.find_all('div', {\"class\": \"rprt\"})]\n",
    "            links = [pr.find_all('a')[0]['href'] for pr in pubmed_results]\n",
    "            pubchem_ids = list()\n",
    "            for link in links:\n",
    "                r = requests.get(link)\n",
    "                soup = BeautifulSoup(r.text, \"lxml\")\n",
    "                pubchem_ids.append(extract_id_type(soup))\n",
    "            return pubchem_ids\n",
    "        # No results found.\n",
    "        else:\n",
    "            return []"
   ]
  },
  {
   "cell_type": "code",
   "execution_count": 33,
   "metadata": {
    "collapsed": false
   },
   "outputs": [
    {
     "data": {
      "text/plain": [
       "['CID:107526', 'CID:24749']"
      ]
     },
     "execution_count": 33,
     "metadata": {},
     "output_type": "execute_result"
    }
   ],
   "source": [
    "get_pubchem('50-99-7')"
   ]
  }
 ],
 "metadata": {
  "kernelspec": {
   "display_name": "Chemoinformatics",
   "language": "python",
   "name": "chemoinformatics"
  },
  "language_info": {
   "codemirror_mode": {
    "name": "ipython",
    "version": 3
   },
   "file_extension": ".py",
   "mimetype": "text/x-python",
   "name": "python",
   "nbconvert_exporter": "python",
   "pygments_lexer": "ipython3",
   "version": "3.6.0"
  }
 },
 "nbformat": 4,
 "nbformat_minor": 2
}
