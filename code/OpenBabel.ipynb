{
 "cells": [
  {
   "cell_type": "markdown",
   "metadata": {},
   "source": [
    "[Open Babel](http://openbabel.org/wiki/Main_Page) is an open source chemical toolbox to search, convert, analyze, or store data from molecular modeling, chemistry etc. Install OpenBabel GUI from: http://openbabel.org/wiki/Category:Installation\n",
    "\n",
    "We'll be working with PyBel, which provides a Python interface for OpenBabel"
   ]
  },
  {
   "cell_type": "code",
   "execution_count": 1,
   "metadata": {},
   "outputs": [],
   "source": [
    "import tkinter as tk\n",
    "from pybel import *"
   ]
  },
  {
   "cell_type": "code",
   "execution_count": 2,
   "metadata": {},
   "outputs": [
    {
     "name": "stdout",
     "output_type": "stream",
     "text": [
      "Formula:  C20H25N2O2+\n",
      "Formula:  C4H10\n"
     ]
    }
   ],
   "source": [
    "# Read molecule from file(by deafult it returns an iterator)\n",
    "mol = next(readfile(format=\"smi\", filename=\"../data/1.smi\"))\n",
    "print(\"Formula: \", mol.formula)\n",
    "\n",
    "# Read from string\n",
    "mol = readstring(\"smi\", \"CCCC\")\n",
    "print(\"Formula: \", mol.formula)"
   ]
  },
  {
   "cell_type": "code",
   "execution_count": 3,
   "metadata": {},
   "outputs": [
    {
     "name": "stdout",
     "output_type": "stream",
     "text": [
      "Molecular Weight:  58.1222\n",
      "Number of Atoms:  4\n"
     ]
    }
   ],
   "source": [
    "# Some properties\n",
    "print(\"Molecular Weight: \", mol.molwt)\n",
    "print(\"Number of Atoms: \", len(mol.atoms))"
   ]
  },
  {
   "cell_type": "code",
   "execution_count": 6,
   "metadata": {},
   "outputs": [
    {
     "data": {
      "text/plain": [
       "[261, 385, 671]"
      ]
     },
     "execution_count": 6,
     "metadata": {},
     "output_type": "execute_result"
    }
   ],
   "source": [
    "# Calcular fingerprints\n",
    "fp = mol.calcfp('fp2')\n",
    "fp.bits"
   ]
  },
  {
   "cell_type": "code",
   "execution_count": 9,
   "metadata": {},
   "outputs": [
    {
     "name": "stdout",
     "output_type": "stream",
     "text": [
      "0.3333333333333333\n"
     ]
    }
   ],
   "source": [
    "# Tanimoto coefficient\n",
    "smiles = ['CCCC', 'CCCN']\n",
    "mols = [readstring(\"smi\", x) for x in smiles] # Create a list of two molecules\n",
    "fps = [x.calcfp() for x in mols] # Calculate their fingerprints\n",
    "print(fps[0] | fps[1]) # Print the Tanimoto coefficient"
   ]
  },
  {
   "cell_type": "code",
   "execution_count": 5,
   "metadata": {},
   "outputs": [],
   "source": [
    "# Write to disk\n",
    "mol.write(format=\"mol\", filename=\"../data/1.mol\", overwrite=True)"
   ]
  }
 ],
 "metadata": {
  "kernelspec": {
   "display_name": "Taste Predict",
   "language": "python",
   "name": "taste-predict"
  },
  "language_info": {
   "codemirror_mode": {
    "name": "ipython",
    "version": 3
   },
   "file_extension": ".py",
   "mimetype": "text/x-python",
   "name": "python",
   "nbconvert_exporter": "python",
   "pygments_lexer": "ipython3",
   "version": "3.6.4"
  }
 },
 "nbformat": 4,
 "nbformat_minor": 2
}
