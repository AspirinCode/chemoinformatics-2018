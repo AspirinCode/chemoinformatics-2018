{
 "cells": [
  {
   "cell_type": "markdown",
   "metadata": {},
   "source": [
    "[Open Babel](http://openbabel.org/wiki/Main_Page) is an open source chemical toolbox to search, convert, analyze, or store data from molecular modeling, chemistry etc. Install OpenBabel GUI from: http://openbabel.org/wiki/Category:Installation\n",
    "\n",
    "We'll be working with PyBel, which provides a Python interface for OpenBabel"
   ]
  },
  {
   "cell_type": "code",
   "execution_count": 1,
   "metadata": {
    "collapsed": false
   },
   "outputs": [],
   "source": [
    "import tkinter as tk\n",
    "from pybel import *"
   ]
  },
  {
   "cell_type": "code",
   "execution_count": 2,
   "metadata": {
    "collapsed": false
   },
   "outputs": [
    {
     "name": "stdout",
     "output_type": "stream",
     "text": [
      "Formula:  C20H25N2O2+\n",
      "Formula:  C4H10\n"
     ]
    }
   ],
   "source": [
    "# Read molecule from file(by deafult it returns an iterator)\n",
    "mol = next(readfile(format=\"smi\", filename=\"../data/1.smi\"))\n",
    "print(\"Formula: \", mol.formula)\n",
    "\n",
    "# Read from string\n",
    "mol = readstring(\"smi\", \"CCCC\")\n",
    "print(\"Formula: \", mol.formula)"
   ]
  },
  {
   "cell_type": "code",
   "execution_count": 3,
   "metadata": {
    "collapsed": false
   },
   "outputs": [
    {
     "name": "stdout",
     "output_type": "stream",
     "text": [
      "Molecular Weight:  58.1222\n",
      "Number of Atoms:  4\n"
     ]
    }
   ],
   "source": [
    "# Some properties\n",
    "print(\"Molecular Weight: \", mol.molwt)\n",
    "print(\"Number of Atoms: \", len(mol.atoms))"
   ]
  },
  {
   "cell_type": "code",
   "execution_count": 4,
   "metadata": {
    "collapsed": false
   },
   "outputs": [
    {
     "data": {
      "text/plain": [
       "[114, 115, 118, 147, 149, 155, 160]"
      ]
     },
     "execution_count": 4,
     "metadata": {},
     "output_type": "execute_result"
    }
   ],
   "source": [
    "# Calcular fingerprints\n",
    "fp = mol.calcfp('MACCS')\n",
    "fp.bits"
   ]
  },
  {
   "cell_type": "code",
   "execution_count": 5,
   "metadata": {
    "collapsed": false
   },
   "outputs": [],
   "source": [
    "# Write to disk\n",
    "mol.write(format=\"mol\", filename=\"../data/1.mol\", overwrite=True)"
   ]
  }
 ],
 "metadata": {
  "kernelspec": {
   "display_name": "Chemoinformatics",
   "language": "python",
   "name": "chemoinformatics"
  },
  "language_info": {
   "codemirror_mode": {
    "name": "ipython",
    "version": 3
   },
   "file_extension": ".py",
   "mimetype": "text/x-python",
   "name": "python",
   "nbconvert_exporter": "python",
   "pygments_lexer": "ipython3",
   "version": "3.6.0"
  }
 },
 "nbformat": 4,
 "nbformat_minor": 2
}
