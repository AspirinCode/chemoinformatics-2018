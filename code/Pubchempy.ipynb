{
 "cells": [
  {
   "cell_type": "markdown",
   "metadata": {},
   "source": [
    "[PubChem](https://pubchem.ncbi.nlm.nih.gov/) is a database of chemical molecules, their properties, structures, activities against bioassays etc. It is maintained by National Center for Biotechnology Information (NCBI). The information present in the database can be retrieved via their [PUG REST API](http://pubchemdocs.ncbi.nlm.nih.gov/pug-rest).\n",
    "\n",
    "Each molecule in the database has a unique ID known as the Compound ID (CID). Corresponding to each CID, you have it's SMILES, Molecular properties, IUPAC etc.\n",
    "\n",
    "Thankfully, Python has a wrapper around the PUG REST API called [Pubchempy](https://pubchempy.readthedocs.io/en/latest/guide/introduction.html), which takes care of nitty gritties involved in retrieving data from a REST API. "
   ]
  },
  {
   "cell_type": "code",
   "execution_count": 1,
   "metadata": {
    "collapsed": false
   },
   "outputs": [],
   "source": [
    "# Import library\n",
    "import pubchempy as pcp"
   ]
  },
  {
   "cell_type": "markdown",
   "metadata": {},
   "source": [
    "### Retrieving cid"
   ]
  },
  {
   "cell_type": "markdown",
   "metadata": {},
   "source": [
    "Pubchempy allows retreival of compounds on the basis of name, smiles, sdf, inchi, inchikey or formula"
   ]
  },
  {
   "cell_type": "code",
   "execution_count": 2,
   "metadata": {
    "collapsed": false
   },
   "outputs": [
    {
     "data": {
      "text/plain": [
       "[Compound(5793)]"
      ]
     },
     "execution_count": 2,
     "metadata": {},
     "output_type": "execute_result"
    }
   ],
   "source": [
    "results = pcp.get_compounds('Glucose', 'name')\n",
    "results"
   ]
  },
  {
   "cell_type": "markdown",
   "metadata": {},
   "source": [
    "### Retrieving data from cid"
   ]
  },
  {
   "cell_type": "code",
   "execution_count": null,
   "metadata": {
    "collapsed": false
   },
   "outputs": [
    {
     "name": "stdout",
     "output_type": "stream",
     "text": [
      "Molecular formula:  C6H12O6\n",
      "Canonical SMILES:  C(C1C(C(C(C(O1)O)O)O)O)O\n",
      "INCHI:  InChI=1S/C6H12O6/c7-1-2-3(8)4(9)5(10)6(11)12-2/h2-11H,1H2/t2-,3-,4+,5-,6?/m1/s1\n",
      "INCHI Key:  WQZGKKKJIJFFOK-GASJEMHNSA-N\n",
      "IUPAC Name:  (3R,4S,5S,6R)-6-(hydroxymethyl)oxane-2,3,4,5-tetrol\n",
      "\n",
      "Some properties:\n",
      "Atom stereo count =  5\n",
      "Bond stereo count =  0\n",
      "Charge =  0\n",
      "Exact Mass =  180.063\n"
     ]
    }
   ],
   "source": [
    "# Retrieving a compound from a cid\n",
    "c = pcp.Compound.from_cid(5793)\n",
    "\n",
    "# Getting smiles\n",
    "print(\"Molecular formula: \", c.molecular_formula)\n",
    "print(\"Canonical SMILES: \", c.canonical_smiles)\n",
    "print(\"INCHI: \", c.inchi)\n",
    "print(\"INCHI Key: \", c.inchikey)\n",
    "print(\"IUPAC Name: \", c.iupac_name)\n",
    "print(\"\\nSome properties:\")\n",
    "print(\"Atom stereo count = \", c.atom_stereo_count)\n",
    "print(\"Bond stereo count = \", c.bond_stereo_count)\n",
    "print(\"Charge = \", c.charge)\n",
    "print(\"Exact Mass = \", c.exact_mass)"
   ]
  },
  {
   "cell_type": "markdown",
   "metadata": {},
   "source": [
    "### Pandas integration"
   ]
  },
  {
   "cell_type": "code",
   "execution_count": null,
   "metadata": {
    "collapsed": false
   },
   "outputs": [],
   "source": [
    "df1 = pcp.get_compounds('C20H41Br', 'formula', as_dataframe=True)"
   ]
  },
  {
   "cell_type": "code",
   "execution_count": null,
   "metadata": {
    "collapsed": false
   },
   "outputs": [],
   "source": [
    "df1.head()"
   ]
  },
  {
   "cell_type": "markdown",
   "metadata": {},
   "source": [
    "There are many more features available as well, including retrieving 3d properties, similarity searching etc. Read the documentation: https://pubchempy.readthedocs.io/en/latest/guide/gettingstarted.html"
   ]
  },
  {
   "cell_type": "markdown",
   "metadata": {},
   "source": [
    "### Can I retrieve data from cas number?"
   ]
  },
  {
   "cell_type": "markdown",
   "metadata": {},
   "source": [
    "Not 100% reliable but gets the job done"
   ]
  },
  {
   "cell_type": "code",
   "execution_count": null,
   "metadata": {
    "collapsed": true
   },
   "outputs": [],
   "source": [
    "import requests\n",
    "from bs4 import BeautifulSoup\n",
    "\n",
    "def extract_id_type(soup):\n",
    "    \"\"\" Takes a BS4 object of a pubchem page as input and returns the\n",
    "    Pubchem ID type and Pubchem ID Value. \"\"\"\n",
    "    \n",
    "    pubhcem_uid_type = soup.find_all(\n",
    "        'meta', {'name': 'pubchem_uid_type'})[0]['content']\n",
    "    pubhcem_uid_value = soup.find_all(\n",
    "        'meta', {'name': 'pubchem_uid_value'})[0]['content']\n",
    "    \n",
    "    return pubhcem_uid_type + ':' + pubhcem_uid_value\n",
    "\n",
    "\n",
    "def get_pubchem(cas):\n",
    "    \"\"\" Extract the mappings to pubchem ids of a given CAS number \"\"\"\n",
    "\n",
    "    # Get the search page.\n",
    "    url = 'https://www.ncbi.nlm.nih.gov/pccompound?term=\"{}\"'.format(cas)\n",
    "    r = requests.get(url)\n",
    "    soup = BeautifulSoup(r.text, 'lxml')\n",
    "\n",
    "    # In case the search page redirects, extract pubchem id type and value.\n",
    "    try:\n",
    "        return extract_id_type(soup)\n",
    "\n",
    "    # Otherwise, get all the returned links and extract pubchem id type and value.\n",
    "    except IndexError:\n",
    "\n",
    "        # If only exact results are returned.\n",
    "        if (not 'Quoted phrase not found' in r.text) and (not 'Did you mean: ' in r.text):\n",
    "            pubmed_results = [pr.find_all('p', {\"class\": \"title\"})[\n",
    "                0] for pr in soup.find_all('div', {\"class\": \"rprt\"})]\n",
    "            links = [pr.find_all('a')[0]['href'] for pr in pubmed_results]\n",
    "            pubchem_ids = list()\n",
    "            for link in links:\n",
    "                r = requests.get(link)\n",
    "                soup = BeautifulSoup(r.text, \"lxml\")\n",
    "                pubchem_ids.append(extract_id_type(soup))\n",
    "            return pubchem_ids\n",
    "        # No results found.\n",
    "        else:\n",
    "            return []"
   ]
  },
  {
   "cell_type": "code",
   "execution_count": null,
   "metadata": {
    "collapsed": false
   },
   "outputs": [],
   "source": [
    "get_pubchem('50-99-7')"
   ]
  }
 ],
 "metadata": {
  "kernelspec": {
   "display_name": "Chemoinformatics",
   "language": "python",
   "name": "chemoinformatics"
  },
  "language_info": {
   "codemirror_mode": {
    "name": "ipython",
    "version": 3
   },
   "file_extension": ".py",
   "mimetype": "text/x-python",
   "name": "python",
   "nbconvert_exporter": "python",
   "pygments_lexer": "ipython3",
   "version": "3.6.0"
  }
 },
 "nbformat": 4,
 "nbformat_minor": 2
}
